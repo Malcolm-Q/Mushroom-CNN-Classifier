{
 "cells": [
  {
   "cell_type": "markdown",
   "id": "7d55ea25-df63-4364-9cf6-8bea9e118a30",
   "metadata": {},
   "source": [
    "# EDA\n",
    "I'm using the Danish Fungal Atlas, [Here are some samples.](https://sites.google.com/view/danish-fungi-dataset/samples)\n",
    "\n",
    "The data will be excluded from GitHub.\n",
    "\n",
    "[Download the Images (6GB).](http://ptak.felk.cvut.cz/plants/DanishFungiDataset/DF20-300px.tar.gz)\n",
    "\n",
    "[Download the Labels (100MB).](http://ptak.felk.cvut.cz/plants/DanishFungiDataset/DF20-metadata.zip)\n",
    "\n",
    "*You can place the files in the 'data/raw' folder then **uncomment** and run the following code:*"
   ]
  },
  {
   "cell_type": "code",
   "execution_count": 1,
   "id": "19ace745-88bc-4116-981a-6695727b71f2",
   "metadata": {},
   "outputs": [
    {
     "name": "stdout",
     "output_type": "stream",
     "text": [
      "Data saved in \"data/cherrypicked\"\n"
     ]
    }
   ],
   "source": [
    "from modules.data_prep import PrepData\n",
    "PrepData()"
   ]
  },
  {
   "cell_type": "markdown",
   "id": "8f5d8119-6312-4b97-9c25-401b02dabcd6",
   "metadata": {},
   "source": [
    "**You will need Pandas, tarfile, PIL, imbalanced-learn, sklearn, and numpy to run this!**\n",
    "\n",
    "It should take a couple minutes to sort itself out and it provides updates along the way.\n",
    "\n",
    "Here's a quick rundown of what PrepData does:\n",
    "* Labels\n",
    "    * Load metadata.\n",
    "    * Use species, filename, and substrate.\n",
    "    * Only keeps data relevant to 30 most popular mushrooms.\n",
    "    * Balances class distribution to 814 samples each.\n",
    "    * Save csv to 'data/cherrypicked/train_labels.csv'.\n",
    "* Images\n",
    "    * Extract .tar to 'data/train_tar'.\n",
    "    * Load images tied to labels.csv.\n",
    "    * resize to 300x300.\n",
    "    * insert into numpy array.\n",
    "    * save numpy array to 'data/cherrypicked/train_array.npy'\n",
    "    \n",
    "## Now the EDA can start..."
   ]
  },
  {
   "cell_type": "code",
   "execution_count": 25,
   "id": "1af12031-e9e4-4c83-8202-655c378be4fe",
   "metadata": {},
   "outputs": [],
   "source": [
    "import pandas as pd\n",
    "import numpy as np\n",
    "import seaborn as sns\n",
    "sns.set_theme(style=\"dark\", context=\"talk\")"
   ]
  },
  {
   "cell_type": "code",
   "execution_count": null,
   "id": "93118124-680c-4f6e-bc7d-affa29ec5611",
   "metadata": {},
   "outputs": [],
   "source": []
  }
 ],
 "metadata": {
  "kernelspec": {
   "display_name": "Python 3 (ipykernel)",
   "language": "python",
   "name": "python3"
  },
  "language_info": {
   "codemirror_mode": {
    "name": "ipython",
    "version": 3
   },
   "file_extension": ".py",
   "mimetype": "text/x-python",
   "name": "python",
   "nbconvert_exporter": "python",
   "pygments_lexer": "ipython3",
   "version": "3.9.13"
  }
 },
 "nbformat": 4,
 "nbformat_minor": 5
}
